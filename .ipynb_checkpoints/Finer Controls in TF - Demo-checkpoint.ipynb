{
 "cells": [
  {
   "cell_type": "code",
   "execution_count": 7,
   "metadata": {
    "collapsed": true
   },
   "outputs": [],
   "source": [
    "import tensorflow as tf\n",
    "from tensorflow.examples.tutorials.mnist import input_data\n",
    "import math"
   ]
  },
  {
   "cell_type": "code",
   "execution_count": 2,
   "metadata": {
    "collapsed": true
   },
   "outputs": [],
   "source": [
    "# The MNIST dataset has 10 classes, representing the digits 0 through 9.\n",
    "NUM_CLASSES = 10\n",
    "\n",
    "# The MNIST images are always 28x28 pixels.\n",
    "IMAGE_SIZE = 28\n",
    "\n",
    "# Each image is 28 X 28 in dimension. We flatten the image to get 784 features where each feature would correspond to one pixel.\n",
    "IMAGE_PIXELS = IMAGE_SIZE * IMAGE_SIZE\n",
    "\n",
    "# Batch size \n",
    "BATCH_SIZE = 100\n",
    "\n",
    "# Defining the number of units in hidden layers\n",
    "HIDDEN_LAYER_1 = 50\n",
    "HIDDEN_LAYER_2 = 20"
   ]
  },
  {
   "cell_type": "code",
   "execution_count": 3,
   "metadata": {
    "collapsed": false
   },
   "outputs": [
    {
     "name": "stdout",
     "output_type": "stream",
     "text": [
      "Extracting MNIST_data/train-images-idx3-ubyte.gz\n",
      "Extracting MNIST_data/train-labels-idx1-ubyte.gz\n",
      "Extracting MNIST_data/t10k-images-idx3-ubyte.gz\n",
      "Extracting MNIST_data/t10k-labels-idx1-ubyte.gz\n"
     ]
    }
   ],
   "source": [
    "mnist = input_data.read_data_sets('MNIST_data', one_hot=True)"
   ]
  },
  {
   "cell_type": "markdown",
   "metadata": {},
   "source": [
    "Creating the computational graph"
   ]
  },
  {
   "cell_type": "code",
   "execution_count": 13,
   "metadata": {
    "collapsed": true
   },
   "outputs": [],
   "source": [
    "# Allocating nodes in the computational graph to accept inputs\n",
    "\n",
    "images = tf.placeholder(tf.float32, shape=(BATCH_SIZE, IMAGE_PIXELS))\n",
    "true_labels = tf.placeholder(tf.int32, shape=(BATCH_SIZE, NUM_CLASSES))"
   ]
  },
  {
   "cell_type": "code",
   "execution_count": 14,
   "metadata": {
    "collapsed": true
   },
   "outputs": [],
   "source": [
    "# Defining the first hidden layer\n",
    "weights_layer_1 = tf.Variable(tf.truncated_normal([IMAGE_PIXELS, HIDDEN_LAYER_1],\n",
    "                      stddev=1.0 / math.sqrt(float(IMAGE_PIXELS))))\n",
    "\n",
    "biases_layer_1 = tf.Variable(tf.zeros([HIDDEN_LAYER_1]))\n",
    "\n",
    "hidden_output_1 = tf.nn.relu(tf.matmul(images, weights_layer_1) + biases_layer_1)\n",
    "\n",
    "# Defining the second hidden layer\n",
    "weights_layer_2 = tf.Variable(tf.truncated_normal([HIDDEN_LAYER_1, HIDDEN_LAYER_2],\n",
    "                      stddev=1.0 / math.sqrt(float(HIDDEN_LAYER_1))))\n",
    "\n",
    "biases_layer_2 = tf.Variable(tf.zeros([HIDDEN_LAYER_2]))\n",
    "\n",
    "hidden_output_2 = tf.nn.relu(tf.matmul(hidden_output_1, weights_layer_2) + biases_layer_2)\n",
    "\n",
    "# Defining the outputs\n",
    "weights_output = tf.Variable(tf.truncated_normal([HIDDEN_LAYER_2, NUM_CLASSES],\n",
    "                      stddev=1.0 / math.sqrt(float(HIDDEN_LAYER_2))))\n",
    "\n",
    "biases_output = tf.Variable(tf.zeros([NUM_CLASSES]))\n",
    "\n",
    "prediction = tf.matmul(hidden_output_2, weights_output) + biases_output"
   ]
  },
  {
   "cell_type": "code",
   "execution_count": 15,
   "metadata": {
    "collapsed": true
   },
   "outputs": [],
   "source": [
    "# Evaluating the loss function\n",
    "loss = tf.reduce_mean(\n",
    "    tf.nn.softmax_cross_entropy_with_logits(labels=true_labels, logits=prediction))"
   ]
  },
  {
   "cell_type": "code",
   "execution_count": 16,
   "metadata": {
    "collapsed": true
   },
   "outputs": [],
   "source": [
    "# Updating the parameters\n",
    "optimizer = tf.train.GradientDescentOptimizer(0.01)\n",
    "training = optimizer.minimize(loss)"
   ]
  },
  {
   "cell_type": "markdown",
   "metadata": {},
   "source": [
    "Doing the computations on the computational graph"
   ]
  },
  {
   "cell_type": "code",
   "execution_count": 17,
   "metadata": {
    "collapsed": true
   },
   "outputs": [],
   "source": [
    "# Session/Interactive Session: Captures the control and state of the computational graph.\n",
    "# It is the connection to the backend computational graph.\n",
    "sess = tf.Session()"
   ]
  },
  {
   "cell_type": "code",
   "execution_count": 21,
   "metadata": {
    "collapsed": false
   },
   "outputs": [
    {
     "name": "stdout",
     "output_type": "stream",
     "text": [
      "(100, 784)\n",
      "(100, 10)\n"
     ]
    }
   ],
   "source": [
    "for train_step in range(100):\n",
    "    batch = mnist.train.next_batch(100)\n",
    "    print(batch[0].shape)\n",
    "    print(batch[1].shape)\n",
    "    break\n",
    "    #loss, _ = sess.run([loss, training], {images: batch[0], true_labels: batch[1]})\n",
    "    print(loss)"
   ]
  },
  {
   "cell_type": "code",
   "execution_count": null,
   "metadata": {
    "collapsed": true
   },
   "outputs": [],
   "source": [
    "print(sess.run([loss], {images:mnist.test.images, true_labels: mnist.test.labels}))"
   ]
  }
 ],
 "metadata": {
  "kernelspec": {
   "display_name": "Python 3",
   "language": "python",
   "name": "python3"
  },
  "language_info": {
   "codemirror_mode": {
    "name": "ipython",
    "version": 3
   },
   "file_extension": ".py",
   "mimetype": "text/x-python",
   "name": "python",
   "nbconvert_exporter": "python",
   "pygments_lexer": "ipython3",
   "version": "3.6.0"
  }
 },
 "nbformat": 4,
 "nbformat_minor": 2
}
